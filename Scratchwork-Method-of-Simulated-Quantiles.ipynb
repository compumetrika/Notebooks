{
 "cells": [
  {
   "cell_type": "markdown",
   "metadata": {},
   "source": [
    "# Scratchwork: Method of Simulated Quantiles\n",
    "\n",
    "Dominicy and Veredas (2013), \"The Method of Simulated Quantiles,\" describes a formal process for using quantiles to execute a method-of-simulated-moments-style indirect inference. The result is a formal process for doing what is often done ad-hoc and by hand in the agent-based literature: setting parameters by mtching distribution shpaseThis notebook simply replicates some of their paper. "
   ]
  },
  {
   "cell_type": "code",
   "execution_count": null,
   "metadata": {
    "collapsed": true
   },
   "outputs": [],
   "source": []
  }
 ],
 "metadata": {
  "kernelspec": {
   "display_name": "Python 2",
   "language": "python",
   "name": "python2"
  },
  "language_info": {
   "codemirror_mode": {
    "name": "ipython",
    "version": 2
   },
   "file_extension": ".py",
   "mimetype": "text/x-python",
   "name": "python",
   "nbconvert_exporter": "python",
   "pygments_lexer": "ipython2",
   "version": "2.7.13"
  }
 },
 "nbformat": 4,
 "nbformat_minor": 2
}
