{
 "cells": [
  {
   "cell_type": "markdown",
   "metadata": {},
   "source": [
    "# Scratchwork: Rational Expect vs Rules of Thumb\n",
    "\n",
    "Rational expect vs rules of thumb: the merging / generalization.\n",
    "\n",
    "Recall that problem is not\n",
    "\n",
    "| RoT    | RE   |\n",
    "+--------+------+\n",
    "| little | big  |\n",
    "\n",
    "but\n",
    "\n",
    "| RoT             | RE               |\n",
    "+-----------------+------------------+\n",
    "| big / super big | little / little  |\n",
    "\n",
    "\n"
   ]
  },
  {
   "cell_type": "markdown",
   "metadata": {},
   "source": []
  }
 ],
 "metadata": {
  "kernelspec": {
   "display_name": "Python 2",
   "language": "python",
   "name": "python2"
  },
  "language_info": {
   "codemirror_mode": {
    "name": "ipython",
    "version": 2
   },
   "file_extension": ".py",
   "mimetype": "text/x-python",
   "name": "python",
   "nbconvert_exporter": "python",
   "pygments_lexer": "ipython2",
   "version": "2.7.13"
  }
 },
 "nbformat": 4,
 "nbformat_minor": 2
}
