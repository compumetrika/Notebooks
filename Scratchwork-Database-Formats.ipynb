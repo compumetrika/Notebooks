{
 "cells": [
  {
   "cell_type": "markdown",
   "metadata": {},
   "source": [
    "# Scratchwork: Database Formats\n",
    "\n",
    "There are a few new database formats I am interested in for purposes of fast/efficient data reading. Information for these are below. "
   ]
  },
  {
   "cell_type": "markdown",
   "metadata": {},
   "source": [
    "## Column-Storage Formats\n",
    "\n",
    "Databases typically store records as rows. Column-oriented databases store records as columns. This an speed up some types of queries, and works particularly well for large datasets. Wiki page has [more info](https://en.wikipedia.org/wiki/Column-oriented_DBMS). \n",
    "\n",
    "Here are particular examples I'd like to explore:\n",
    "\n",
    "- [Apache Parquet](http://parquet.apache.org/)\n",
    "    - \"Apache Parquet is a columnar storage format available to any project in the Hadoop ecosystem, regardless of the choice of data processing framework, data model or programming language.\"\n",
    "- [MonetDB](https://www.monetdb.org/)\n"
   ]
  },
  {
   "cell_type": "markdown",
   "metadata": {},
   "source": []
  }
 ],
 "metadata": {
  "kernelspec": {
   "display_name": "Python 2",
   "language": "python",
   "name": "python2"
  },
  "language_info": {
   "codemirror_mode": {
    "name": "ipython",
    "version": 2
   },
   "file_extension": ".py",
   "mimetype": "text/x-python",
   "name": "python",
   "nbconvert_exporter": "python",
   "pygments_lexer": "ipython2",
   "version": "2.7.13"
  }
 },
 "nbformat": 4,
 "nbformat_minor": 2
}
