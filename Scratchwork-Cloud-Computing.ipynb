{
 "cells": [
  {
   "cell_type": "markdown",
   "metadata": {},
   "source": [
    "# Scratchwork: Cloud Computing\n",
    "\n",
    "The goal is an inexpensive, 'on demand' scientific cluster. A long time ago PiCloud.com achieved this. These are simple exploratory efforts along those lines.\n",
    "\n",
    "# Spark on AWS:\n",
    "\n",
    "See notebook on \"dream of own PiCloud.\"\n",
    "\n",
    "Things to look into: \n",
    "\n",
    "- spot pricing\n",
    "- EMR \"instance fleets:\" https://aws.amazon.com/about-aws/whats-new/2017/03/amazon-emr-announces-instance-fleets-for-amazon-ec2-spot-instances-and-spot-blocks/\n",
    "\n",
    "\n",
    "\n",
    "Specific links that look promising: \n",
    "\n",
    "- http://docs.aws.amazon.com/emr/latest/ReleaseGuide/emr-spark.html\n",
    "    - To view an end-to-end example using Spark on Amazon EMR, see the New — Apache Spark on Amazon EMR post on the AWS official blog.\n",
    "        - https://aws.amazon.com/blogs/aws/new-apache-spark-on-amazon-emr/\n",
    "    - To view a machine learning example using Spark on Amazon EMR, see the Large-Scale Machine Learning with Spark on Amazon EMR post on the AWS Big Data blog.\n",
    "        - https://aws.amazon.com/blogs/big-data/large-scale-machine-learning-with-spark-on-amazon-emr/\n",
    "- EMR Spark launch: http://docs.aws.amazon.com/emr/latest/ReleaseGuide/emr-spark-launch.html\n",
    "- AWS: best practices for using Spark n AWS: https://www.slideshare.net/AmazonWebServices/best-practices-for-using-apache-spark-on-aws\n",
    "- Overview-ish: https://aws.amazon.com/emr/details/spark/\n",
    "- R, sparklr: https://aws.amazon.com/blogs/big-data/running-sparklyr-rstudios-r-interface-to-spark-on-amazon-emr/\n",
    "\n",
    "- EMR guide: http://docs.aws.amazon.com/emr/latest/ManagementGuide/emr-what-is-emr.html\n",
    "- EMR faqs: https://aws.amazon.com/emr/faqs/\n",
    "- EMR ipython notebook: https://aws.amazon.com/blogs/big-data/using-ipython-notebook-to-analyze-data-with-amazon-emr/\n",
    "\n",
    "\n",
    "- Promising-looking:\n",
    "    - http://www.simba.com/blog/setting-apache-spark-aws/   \n",
    "    - http://blog.insightdatalabs.com/spark-cluster-step-by-step/\n",
    "    - https://blog.insightdatascience.com/spinning-up-a-free-hadoop-cluster-step-by-step-c406d56bae42"
   ]
  },
  {
   "cell_type": "markdown",
   "metadata": {},
   "source": []
  }
 ],
 "metadata": {
  "kernelspec": {
   "display_name": "Python 2",
   "language": "python",
   "name": "python2"
  },
  "language_info": {
   "codemirror_mode": {
    "name": "ipython",
    "version": 2
   },
   "file_extension": ".py",
   "mimetype": "text/x-python",
   "name": "python",
   "nbconvert_exporter": "python",
   "pygments_lexer": "ipython2",
   "version": "2.7.13"
  }
 },
 "nbformat": 4,
 "nbformat_minor": 2
}
